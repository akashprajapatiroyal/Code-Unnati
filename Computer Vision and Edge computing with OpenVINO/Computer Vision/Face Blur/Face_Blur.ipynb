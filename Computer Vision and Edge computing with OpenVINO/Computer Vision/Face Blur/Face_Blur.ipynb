{
 "cells": [
  {
   "attachments": {},
   "cell_type": "markdown",
   "metadata": {},
   "source": [
    "# Face Blur"
   ]
  },
  {
   "cell_type": "code",
   "execution_count": 1,
   "metadata": {},
   "outputs": [
    {
     "name": "stderr",
     "output_type": "stream",
     "text": [
      "C:\\Users\\Akash\\AppData\\Local\\Temp\\ipykernel_14744\\277771450.py:21: DeprecationWarning: elementwise comparison failed; this will raise an error in the future.\n",
      "  if faces==():\n"
     ]
    },
    {
     "ename": "KeyboardInterrupt",
     "evalue": "",
     "output_type": "error",
     "traceback": [
      "\u001b[1;31m---------------------------------------------------------------------------\u001b[0m",
      "\u001b[1;31mKeyboardInterrupt\u001b[0m                         Traceback (most recent call last)",
      "\u001b[1;32me:\\SAP\\Module 4 Computer Vision and Edge computing with OpenVINO\\Unit 3 - Computer Vision\\Face Blur\\Face_Blur.ipynb Cell 1\u001b[0m in \u001b[0;36m1\n\u001b[0;32m      <a href='vscode-notebook-cell:/e%3A/SAP/Module%204%20Computer%20Vision%20and%20Edge%20computing%20with%20OpenVINO/Unit%203%20-%20Computer%20Vision/Face%20Blur/Face_Blur.ipynb#W0sZmlsZQ%3D%3D?line=7'>8</a>\u001b[0m \u001b[39mwhile\u001b[39;00m \u001b[39mTrue\u001b[39;00m:\n\u001b[0;32m      <a href='vscode-notebook-cell:/e%3A/SAP/Module%204%20Computer%20Vision%20and%20Edge%20computing%20with%20OpenVINO/Unit%203%20-%20Computer%20Vision/Face%20Blur/Face_Blur.ipynb#W0sZmlsZQ%3D%3D?line=8'>9</a>\u001b[0m     success,img \u001b[39m=\u001b[39m cap\u001b[39m.\u001b[39mread()\n\u001b[1;32m---> <a href='vscode-notebook-cell:/e%3A/SAP/Module%204%20Computer%20Vision%20and%20Edge%20computing%20with%20OpenVINO/Unit%203%20-%20Computer%20Vision/Face%20Blur/Face_Blur.ipynb#W0sZmlsZQ%3D%3D?line=9'>10</a>\u001b[0m     faces \u001b[39m=\u001b[39m faceCascade\u001b[39m.\u001b[39;49mdetectMultiScale(img,\u001b[39m1.2\u001b[39;49m,\u001b[39m4\u001b[39;49m)\n\u001b[0;32m     <a href='vscode-notebook-cell:/e%3A/SAP/Module%204%20Computer%20Vision%20and%20Edge%20computing%20with%20OpenVINO/Unit%203%20-%20Computer%20Vision/Face%20Blur/Face_Blur.ipynb#W0sZmlsZQ%3D%3D?line=10'>11</a>\u001b[0m     \u001b[39mfor\u001b[39;00m (x, y, w, h) \u001b[39min\u001b[39;00m faces:\n\u001b[0;32m     <a href='vscode-notebook-cell:/e%3A/SAP/Module%204%20Computer%20Vision%20and%20Edge%20computing%20with%20OpenVINO/Unit%203%20-%20Computer%20Vision/Face%20Blur/Face_Blur.ipynb#W0sZmlsZQ%3D%3D?line=11'>12</a>\u001b[0m         \u001b[39m# To make a face Blurred\u001b[39;00m\n\u001b[0;32m     <a href='vscode-notebook-cell:/e%3A/SAP/Module%204%20Computer%20Vision%20and%20Edge%20computing%20with%20OpenVINO/Unit%203%20-%20Computer%20Vision/Face%20Blur/Face_Blur.ipynb#W0sZmlsZQ%3D%3D?line=12'>13</a>\u001b[0m         ROI \u001b[39m=\u001b[39m img[y:y\u001b[39m+\u001b[39mh, x:x\u001b[39m+\u001b[39mw]\n",
      "\u001b[1;31mKeyboardInterrupt\u001b[0m: "
     ]
    },
    {
     "ename": "",
     "evalue": "",
     "output_type": "error",
     "traceback": [
      "\u001b[1;31mThe Kernel crashed while executing code in the the current cell or a previous cell. Please review the code in the cell(s) to identify a possible cause of the failure. Click <a href='https://aka.ms/vscodeJupyterKernelCrash'>here</a> for more info. View Jupyter <a href='command:jupyter.viewOutput'>log</a> for further details."
     ]
    }
   ],
   "source": [
    "# import the necessary packages\n",
    "\n",
    "import cv2\n",
    "\n",
    "cap = cv2.VideoCapture(0)\n",
    "faceCascade = cv2.CascadeClassifier('haarcascade_frontalface_default.xml')\n",
    "\n",
    "while True:\n",
    "    success,img = cap.read()\n",
    "    faces = faceCascade.detectMultiScale(img,1.2,4)\n",
    "    for (x, y, w, h) in faces:\n",
    "        # To make a face Blurred\n",
    "        ROI = img[y:y+h, x:x+w]\n",
    "        blur = cv2.GaussianBlur(ROI, (91,91),0)\n",
    "        # Insert ROI back into image\n",
    "        img[y:y+h, x:x+w] = blur\n",
    "\n",
    "        # To makea bounding box #*(Not Necessary)\n",
    "        # cv2.rectangle(img,(x,y),(x+w, y+h),(0,255,0),4)\n",
    "\n",
    "    if faces==():\n",
    "        cv2.putText(img,'No Face Found!',(20,50),cv2.FONT_HERSHEY_COMPLEX,1,(0,0,255))\n",
    "    cv2.imshow('Face Blur', img)\n",
    "    if cv2.waitKey(1) & 0xff==ord('q'):\n",
    "        break\n",
    "\n",
    "        # Turn camera off\n",
    "cap.release()\n",
    "        # Close Camera Window\n",
    "cv2.destroyAllWindows()"
   ]
  }
 ],
 "metadata": {
  "kernelspec": {
   "display_name": "Python 3",
   "language": "python",
   "name": "python3"
  },
  "language_info": {
   "codemirror_mode": {
    "name": "ipython",
    "version": 3
   },
   "file_extension": ".py",
   "mimetype": "text/x-python",
   "name": "python",
   "nbconvert_exporter": "python",
   "pygments_lexer": "ipython3",
   "version": "3.10.6"
  },
  "orig_nbformat": 4
 },
 "nbformat": 4,
 "nbformat_minor": 2
}
