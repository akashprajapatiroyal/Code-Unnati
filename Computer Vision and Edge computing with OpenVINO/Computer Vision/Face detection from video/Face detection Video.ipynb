{
 "cells": [
  {
   "attachments": {},
   "cell_type": "markdown",
   "metadata": {},
   "source": [
    "# Face detection Video"
   ]
  },
  {
   "cell_type": "code",
   "execution_count": 2,
   "metadata": {},
   "outputs": [
    {
     "ename": "KeyboardInterrupt",
     "evalue": "",
     "output_type": "error",
     "traceback": [
      "\u001b[1;31m---------------------------------------------------------------------------\u001b[0m",
      "\u001b[1;31mKeyboardInterrupt\u001b[0m                         Traceback (most recent call last)",
      "\u001b[1;32me:\\SAP\\Module 4 Computer Vision and Edge computing with OpenVINO\\Unit 3 - Computer Vision\\Face detection from video\\Face detection Video.ipynb Cell 2\u001b[0m in \u001b[0;36m2\n\u001b[0;32m     <a href='vscode-notebook-cell:/e%3A/SAP/Module%204%20Computer%20Vision%20and%20Edge%20computing%20with%20OpenVINO/Unit%203%20-%20Computer%20Vision/Face%20detection%20from%20video/Face%20detection%20Video.ipynb#W0sZmlsZQ%3D%3D?line=21'>22</a>\u001b[0m cv2\u001b[39m.\u001b[39mimshow(\u001b[39m'\u001b[39m\u001b[39mimg\u001b[39m\u001b[39m'\u001b[39m, img)\n\u001b[0;32m     <a href='vscode-notebook-cell:/e%3A/SAP/Module%204%20Computer%20Vision%20and%20Edge%20computing%20with%20OpenVINO/Unit%203%20-%20Computer%20Vision/Face%20detection%20from%20video/Face%20detection%20Video.ipynb#W0sZmlsZQ%3D%3D?line=22'>23</a>\u001b[0m \u001b[39m# Stop if escape key is pressed\u001b[39;00m\n\u001b[1;32m---> <a href='vscode-notebook-cell:/e%3A/SAP/Module%204%20Computer%20Vision%20and%20Edge%20computing%20with%20OpenVINO/Unit%203%20-%20Computer%20Vision/Face%20detection%20from%20video/Face%20detection%20Video.ipynb#W0sZmlsZQ%3D%3D?line=24'>25</a>\u001b[0m k \u001b[39m=\u001b[39m cv2\u001b[39m.\u001b[39;49mwaitKey(\u001b[39m250\u001b[39;49m) \u001b[39m&\u001b[39m \u001b[39m0xff\u001b[39m\n\u001b[0;32m     <a href='vscode-notebook-cell:/e%3A/SAP/Module%204%20Computer%20Vision%20and%20Edge%20computing%20with%20OpenVINO/Unit%203%20-%20Computer%20Vision/Face%20detection%20from%20video/Face%20detection%20Video.ipynb#W0sZmlsZQ%3D%3D?line=25'>26</a>\u001b[0m \u001b[39mif\u001b[39;00m k\u001b[39m==\u001b[39m\u001b[39m27\u001b[39m:\n\u001b[0;32m     <a href='vscode-notebook-cell:/e%3A/SAP/Module%204%20Computer%20Vision%20and%20Edge%20computing%20with%20OpenVINO/Unit%203%20-%20Computer%20Vision/Face%20detection%20from%20video/Face%20detection%20Video.ipynb#W0sZmlsZQ%3D%3D?line=26'>27</a>\u001b[0m     \u001b[39mbreak\u001b[39;00m\n",
      "\u001b[1;31mKeyboardInterrupt\u001b[0m: "
     ]
    }
   ],
   "source": [
    "import cv2\n",
    "\n",
    "# Load the cascade\n",
    "face_cascade = cv2.CascadeClassifier('haarcascade_frontalface_default.xml')\n",
    "\n",
    "# To capture video from webcam.\n",
    "#cap = cv2.VideoCapture(0)\n",
    "# To use a video file as input\n",
    "cap = cv2.VideoCapture('video.mp4')\n",
    "\n",
    "while True:\n",
    "    # Read the frame\n",
    "    _,img = cap.read()\n",
    "    # Convert to grayscale\n",
    "    gray = cv2.cvtColor(img, cv2.COLOR_BGR2GRAY)\n",
    "    # Detect the faces\n",
    "    faces = face_cascade.detectMultiScale(gray, 1.1, 4)\n",
    "    for (x, y, w, h) in faces:\n",
    "        cv2.rectangle(img, (x, y), (x+w, y+h), (0,0,255), 2)\n",
    "\n",
    "    # Display\n",
    "    cv2.imshow('img', img)\n",
    "    # Stop if escape key is pressed\n",
    "\n",
    "    k = cv2.waitKey(250) & 0xff\n",
    "    if k==27:\n",
    "        break\n",
    "cv2.destroyAllWindows()\n",
    "# Release the VideoCapture object\n",
    "cap.release()"
   ]
  },
  {
   "cell_type": "code",
   "execution_count": null,
   "metadata": {},
   "outputs": [],
   "source": []
  }
 ],
 "metadata": {
  "kernelspec": {
   "display_name": "Python 3",
   "language": "python",
   "name": "python3"
  },
  "language_info": {
   "codemirror_mode": {
    "name": "ipython",
    "version": 3
   },
   "file_extension": ".py",
   "mimetype": "text/x-python",
   "name": "python",
   "nbconvert_exporter": "python",
   "pygments_lexer": "ipython3",
   "version": "3.10.6"
  },
  "orig_nbformat": 4
 },
 "nbformat": 4,
 "nbformat_minor": 2
}
