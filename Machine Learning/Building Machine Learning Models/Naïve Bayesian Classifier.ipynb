{
 "cells": [
  {
   "attachments": {},
   "cell_type": "markdown",
   "metadata": {},
   "source": [
    "# Naïve Bayesian Classifier"
   ]
  },
  {
   "cell_type": "code",
   "execution_count": 1,
   "metadata": {},
   "outputs": [],
   "source": [
    "from sklearn import preprocessing\n",
    "\n",
    "#Generating the Gaussian Naive Bayes model \n",
    "from sklearn.naive_bayes import GaussianNB"
   ]
  },
  {
   "cell_type": "code",
   "execution_count": 2,
   "metadata": {},
   "outputs": [],
   "source": [
    "# Assign features and encoding labels weather=['Sunny', 'Sunny', 'Overcast', 'Rainy','Rainy 'Rainy', 'Overcast, Sunny', 'Sunny', 'Rainy', 'Sunny', 'Overcast', 'Overcast', 'Rainy'] humidity=['High', 'High', 'High', 'Medium', 'Low', 'Low ','Low', 'Medium', 'Low', 'Medium', 'Medium', 'Mediu m','High','Medium']\n",
    "\n",
    "batfirst=['No', 'No', 'Yes', 'Yes', 'Yes', 'No', 'Yes', 'No', 'Y es', 'Yes', 'Yes', 'Yes', 'Yes', 'No']"
   ]
  },
  {
   "cell_type": "code",
   "execution_count": 3,
   "metadata": {},
   "outputs": [],
   "source": [
    "from sklearn import preprocessing\n",
    "\n",
    "\n",
    "#Generating the Gaussian Naive Bayes model from sklearn.naive_bayes import Gaussian NB\n",
    "\n",
    "weather=['Sunny', 'Sunny', 'Overcast', 'Rainy', 'Rainy ''Rainy', 'Overcast', 'Sunny', 'Sunny',\n",
    "\n",
    "# Assign features and encoding labels \n",
    "'Rainy', 'Sunny', 'Overcast', 'Overcast', 'Rainy'] \n",
    "humidity=['High', 'High', 'High', 'Medium', 'Low', 'Low ''Low', 'Medium', 'Low', 'Medium', 'Medium', 'Mediu m', 'High','Medium']"
   ]
  },
  {
   "cell_type": "code",
   "execution_count": 11,
   "metadata": {},
   "outputs": [
    {
     "name": "stdout",
     "output_type": "stream",
     "text": [
      "[3 3 0 1 2 0 3 3 1 3 0 0 1] [0 0 0 4 1 2 4 1 4 4 3 0 4] [0 0 2 2 2 0 2 0 1 2 2 2 2 0]\n"
     ]
    }
   ],
   "source": [
    "# Creating labelEncoder\n",
    "le = preprocessing.LabelEncoder()\n",
    "# Converting string labels into numbers.\n",
    "weather_encoded=le.fit_transform(weather)\n",
    "hum_encoded=le.fit_transform(humidity)\n",
    "label=le.fit_transform(batfirst)\n",
    "print(weather_encoded,hum_encoded,label)"
   ]
  },
  {
   "cell_type": "code",
   "execution_count": 12,
   "metadata": {},
   "outputs": [
    {
     "name": "stdout",
     "output_type": "stream",
     "text": [
      "[0 0 0 0 0 0 0 0 0 0 0 0 0] [0 0 0 4 1 2 4 1 4 4 3 0 4] [0 0 2 2 2 0 2 0 1 2 2 2 2 0]\n"
     ]
    }
   ],
   "source": [
    "## Creating labelEncoder le = preprocessing.LabelEncoder()\n",
    "# Converting string labels into numbers. hum_encoded-le.fit_transform(humidity)\n",
    "weather_encoded = weather_encoded-le.fit_transform(weather)\n",
    "\n",
    "label-le.fit_transform(batfirst) \n",
    "print(weather_encoded, hum_encoded, label)"
   ]
  },
  {
   "cell_type": "code",
   "execution_count": 13,
   "metadata": {},
   "outputs": [],
   "source": [
    "# Combining weather and humidity in a single tuple as features\n",
    "features=list(zip(weather_encoded,hum_encoded))"
   ]
  },
  {
   "cell_type": "code",
   "execution_count": 14,
   "metadata": {},
   "outputs": [],
   "source": [
    "#Combining weather and humidity in a single tuple as features\n",
    "features=list(zip(weather_encoded,hum_encoded))"
   ]
  },
  {
   "cell_type": "code",
   "execution_count": null,
   "metadata": {},
   "outputs": [],
   "source": [
    "#Create a Gaussian Classifier\n",
    "model = GaussianNB()\n",
    "model.fit(features,label) #Train the model using training set."
   ]
  },
  {
   "cell_type": "code",
   "execution_count": 33,
   "metadata": {},
   "outputs": [
    {
     "name": "stdout",
     "output_type": "stream",
     "text": [
      "Enter Weather and Humidtity conditions : \n"
     ]
    }
   ],
   "source": [
    "print(\"Enter Weather and Humidtity conditions : \")\n",
    "w,h=map(int, input().split())\n",
    "# ''' For Weather : 0:Overcast, 2:Sunny , 1:Rainy ''' For Humidity : 0:High, 2:Medium, 1"
   ]
  },
  {
   "cell_type": "code",
   "execution_count": null,
   "metadata": {},
   "outputs": [],
   "source": [
    "#Predict Output\n",
    "predicted = model.predict([[w,h]]) \n",
    "\n",
    "print(predicted) # --> [1] that means yes, the player should bat first and [0] that means No, player should bowl first."
   ]
  },
  {
   "cell_type": "code",
   "execution_count": null,
   "metadata": {},
   "outputs": [],
   "source": []
  }
 ],
 "metadata": {
  "kernelspec": {
   "display_name": "Python 3",
   "language": "python",
   "name": "python3"
  },
  "language_info": {
   "codemirror_mode": {
    "name": "ipython",
    "version": 3
   },
   "file_extension": ".py",
   "mimetype": "text/x-python",
   "name": "python",
   "nbconvert_exporter": "python",
   "pygments_lexer": "ipython3",
   "version": "3.10.6"
  },
  "orig_nbformat": 4,
  "vscode": {
   "interpreter": {
    "hash": "79339ed4f4c99a99a95b13e740f7a98d06498bbbc7b38ccbf638228d9c716f4a"
   }
  }
 },
 "nbformat": 4,
 "nbformat_minor": 2
}
