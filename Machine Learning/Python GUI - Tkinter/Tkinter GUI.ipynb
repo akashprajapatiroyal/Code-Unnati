{
 "cells": [
  {
   "attachments": {},
   "cell_type": "markdown",
   "id": "73da4a64",
   "metadata": {},
   "source": [
    "# Tkinter"
   ]
  },
  {
   "cell_type": "code",
   "execution_count": 2,
   "id": "5c508e38",
   "metadata": {},
   "outputs": [],
   "source": [
    "# Importing Library \n",
    "\n",
    "from tkinter import *\n",
    "import ttk\n",
    "from tkinter.ttk import *"
   ]
  },
  {
   "cell_type": "code",
   "execution_count": 3,
   "id": "28a143ee",
   "metadata": {},
   "outputs": [],
   "source": [
    "window = Tk()\n",
    "\n",
    "window.title(\"Welcome to Python Tkinter\")\n",
    "window.configure(bg='cyan')\n",
    "\n",
    "window.geometry('1000x700')\n",
    "\n",
    "## Adding the Label on the window\n",
    "\n",
    "label = Label(window, text=\"Hello, \", font= (\"Helvetica 15\"))\n",
    "label.grid(column=0, row=0)\n",
    "\n",
    "## Adding the entry on the window -- (To get input from the user)\n",
    "\n",
    "txt = Entry(window, width=50)\n",
    "txt.grid(column=50, row=1)\n",
    "\n",
    "def clicked():      ## After clicking. It will add the user added string to the name variable\n",
    "    name = \"Welcome\" + txt.get()\n",
    "    label.configure(text= name)\n",
    "    \n",
    "## Creating a Button on the Window\n",
    "\n",
    "btn = Button(window, text=\"Click Me\", command=clicked)\n",
    "btn.grid(column=100, row=50)\n",
    "\n",
    "def clicked():\n",
    "    label.configure(text=\"After, Button was clicked !!, We have seen the change\")\n",
    "    \n",
    "window.mainloop()"
   ]
  },
  {
   "cell_type": "code",
   "execution_count": null,
   "id": "515a4fb3",
   "metadata": {},
   "outputs": [],
   "source": []
  }
 ],
 "metadata": {
  "kernelspec": {
   "display_name": "Python 3 (ipykernel)",
   "language": "python",
   "name": "python3"
  },
  "language_info": {
   "codemirror_mode": {
    "name": "ipython",
    "version": 3
   },
   "file_extension": ".py",
   "mimetype": "text/x-python",
   "name": "python",
   "nbconvert_exporter": "python",
   "pygments_lexer": "ipython3",
   "version": "3.10.6"
  }
 },
 "nbformat": 4,
 "nbformat_minor": 5
}
