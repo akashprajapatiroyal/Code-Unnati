{
 "cells": [
  {
   "attachments": {},
   "cell_type": "markdown",
   "id": "cf546476",
   "metadata": {},
   "source": [
    "# Indexing and selection operators"
   ]
  },
  {
   "cell_type": "code",
   "execution_count": 2,
   "id": "7833a959",
   "metadata": {},
   "outputs": [
    {
     "name": "stdout",
     "output_type": "stream",
     "text": [
      "Name\n",
      "Avery Bradley    25.0\n",
      "Jae Crowder      25.0\n",
      "John Holland     27.0\n",
      "R.J. Hunter      22.0\n",
      "Jonas Jerebko    29.0\n",
      "                 ... \n",
      "Shelvin Mack     26.0\n",
      "Raul Neto        24.0\n",
      "Tibor Pleiss     26.0\n",
      "Jeff Withey      26.0\n",
      "NaN               NaN\n",
      "Name: Age, Length: 458, dtype: float64\n"
     ]
    }
   ],
   "source": [
    "#importing pandas package\n",
    "import pandas as pd\n",
    "\n",
    "#making data frame from csv file\n",
    "data = pd.read_csv(\"nba-2.csv\", index_col = \"Name\")\n",
    "\n",
    "#retrieving columns by indexing operator\n",
    "first = data[\"Age\"]\n",
    "\n",
    "print(first)"
   ]
  },
  {
   "cell_type": "code",
   "execution_count": 3,
   "id": "7b6c3899",
   "metadata": {},
   "outputs": [
    {
     "name": "stdout",
     "output_type": "stream",
     "text": [
      "                Age            College     Salary\n",
      "Name                                             \n",
      "Avery Bradley  25.0              Texas  7730337.0\n",
      "Jae Crowder    25.0          Marquette  6796117.0\n",
      "John Holland   27.0  Boston University        NaN\n",
      "R.J. Hunter    22.0      Georgia State  1148640.0\n",
      "Jonas Jerebko  29.0                NaN  5000000.0\n",
      "...             ...                ...        ...\n",
      "Shelvin Mack   26.0             Butler  2433333.0\n",
      "Raul Neto      24.0                NaN   900000.0\n",
      "Tibor Pleiss   26.0                NaN  2900000.0\n",
      "Jeff Withey    26.0             Kansas   947276.0\n",
      "NaN             NaN                NaN        NaN\n",
      "\n",
      "[458 rows x 3 columns]\n"
     ]
    }
   ],
   "source": [
    "#importing pandas package\n",
    "import pandas as pd\n",
    "\n",
    "#making data frame from csv file\n",
    "data = pd.read_csv(\"nba-2.csv\", index_col = \"Name\")\n",
    "\n",
    "#retrieving multiple columns by indexing operator\n",
    "first = data[[\"Age\", \"College\", \"Salary\"]]\n",
    "\n",
    "print(first)"
   ]
  },
  {
   "cell_type": "code",
   "execution_count": 4,
   "id": "bec60512",
   "metadata": {},
   "outputs": [
    {
     "name": "stdout",
     "output_type": "stream",
     "text": [
      "Team        Boston Celtics\n",
      "Number                 0.0\n",
      "Position                PG\n",
      "Age                   25.0\n",
      "Height                 6-2\n",
      "Weight               180.0\n",
      "College              Texas\n",
      "Salary           7730337.0\n",
      "Name: Avery Bradley, dtype: object \n",
      "\n",
      "\n",
      " Team        Boston Celtics\n",
      "Number                28.0\n",
      "Position                SG\n",
      "Age                   22.0\n",
      "Height                 6-5\n",
      "Weight               185.0\n",
      "College      Georgia State\n",
      "Salary           1148640.0\n",
      "Name: R.J. Hunter, dtype: object\n"
     ]
    }
   ],
   "source": [
    "#importing pandas package\n",
    "import pandas as pd\n",
    "\n",
    "#making data frame from csv file\n",
    "data = pd.read_csv(\"nba-2.csv\", index_col = \"Name\")\n",
    "\n",
    "#retrieving row by loc method\n",
    "first = data.loc[\"Avery Bradley\"]\n",
    "second = data.loc[\"R.J. Hunter\"]\n",
    "\n",
    "print(first, \"\\n\\n\\n\", second)"
   ]
  },
  {
   "cell_type": "code",
   "execution_count": 5,
   "id": "73484356",
   "metadata": {},
   "outputs": [
    {
     "name": "stdout",
     "output_type": "stream",
     "text": [
      "                         Team  Number Position   Age Height  Weight  \\\n",
      "Name                                                                  \n",
      "Avery Bradley  Boston Celtics     0.0       PG  25.0    6-2   180.0   \n",
      "R.J. Hunter    Boston Celtics    28.0       SG  22.0    6-5   185.0   \n",
      "\n",
      "                     College     Salary  \n",
      "Name                                     \n",
      "Avery Bradley          Texas  7730337.0  \n",
      "R.J. Hunter    Georgia State  1148640.0  \n"
     ]
    }
   ],
   "source": [
    "#importing pandas package\n",
    "import pandas as pd\n",
    "\n",
    "#making data frame from csv file\n",
    "data = pd.read_csv(\"nba-2.csv\", index_col = \"Name\")\n",
    "\n",
    "#retrieving multiple row by loc method\n",
    "first = data.loc[[\"Avery Bradley\", \"R.J. Hunter\"]]\n",
    "\n",
    "print(first)"
   ]
  },
  {
   "cell_type": "code",
   "execution_count": 6,
   "id": "1939407c",
   "metadata": {},
   "outputs": [
    {
     "name": "stdout",
     "output_type": "stream",
     "text": [
      "                         Team  Number Position\n",
      "Name                                          \n",
      "Avery Bradley  Boston Celtics     0.0       PG\n",
      "R.J. Hunter    Boston Celtics    28.0       SG\n"
     ]
    }
   ],
   "source": [
    "#importing pandas package\n",
    "import pandas as pd\n",
    "\n",
    "#making data frame from csv file\n",
    "data = pd.read_csv(\"nba-2.csv\", index_col = \"Name\")\n",
    "\n",
    "#retrieving two row and three columns by loc method\n",
    "first = data.loc[[\"Avery Bradley\", \"R.J. Hunter\"],\n",
    "                 [\"Team\", \"Number\", \"Position\"]]\n",
    "\n",
    "print(first)"
   ]
  },
  {
   "cell_type": "code",
   "execution_count": 7,
   "id": "8f341eb6",
   "metadata": {},
   "outputs": [
    {
     "name": "stdout",
     "output_type": "stream",
     "text": [
      "                         Team  Number Position Height  Weight\n",
      "Name                                                         \n",
      "Avery Bradley  Boston Celtics     0.0       PG    6-2   180.0\n",
      "R.J. Hunter    Boston Celtics    28.0       SG    6-5   185.0\n",
      "John Holland   Boston Celtics    30.0       SG    6-5   205.0\n",
      "Marcus Smart   Boston Celtics    36.0       PG    6-4   220.0\n"
     ]
    }
   ],
   "source": [
    "#importing pandas package\n",
    "import pandas as pd\n",
    "\n",
    "#making data frame from csv file\n",
    "data = pd.read_csv(\"nba-2.csv\", index_col = \"Name\")\n",
    "\n",
    "#retrieving four row and five columns by loc method\n",
    "first = data.loc[[\"Avery Bradley\", \"R.J. Hunter\", \"John Holland\", \"Marcus Smart\"],\n",
    "                 [\"Team\", \"Number\", \"Position\", \"Height\", \"Weight\"]]\n",
    "\n",
    "print(first)"
   ]
  },
  {
   "cell_type": "code",
   "execution_count": 8,
   "id": "52359a8f",
   "metadata": {},
   "outputs": [
    {
     "name": "stdout",
     "output_type": "stream",
     "text": [
      "                         Team  Number Position Height  Weight\n",
      "Name                                                         \n",
      "Avery Bradley  Boston Celtics     0.0       PG    6-2   180.0\n",
      "Jae Crowder    Boston Celtics    99.0       SF    6-6   235.0\n",
      "John Holland   Boston Celtics    30.0       SG    6-5   205.0\n",
      "R.J. Hunter    Boston Celtics    28.0       SG    6-5   185.0\n",
      "Jonas Jerebko  Boston Celtics     8.0       PF   6-10   231.0\n",
      "...                       ...     ...      ...    ...     ...\n",
      "Shelvin Mack        Utah Jazz     8.0       PG    6-3   203.0\n",
      "Raul Neto           Utah Jazz    25.0       PG    6-1   179.0\n",
      "Tibor Pleiss        Utah Jazz    21.0        C    7-3   256.0\n",
      "Jeff Withey         Utah Jazz    24.0        C    7-0   231.0\n",
      "NaN                       NaN     NaN      NaN    NaN     NaN\n",
      "\n",
      "[458 rows x 5 columns]\n"
     ]
    }
   ],
   "source": [
    "#importing pandas package\n",
    "import pandas as pd\n",
    "\n",
    "#making data frame from csv file\n",
    "data = pd.read_csv(\"nba-2.csv\", index_col = \"Name\")\n",
    "\n",
    "#retrieving all row and five columns by loc method\n",
    "first = data.loc[:,[\"Team\", \"Number\", \"Position\", \"Height\", \"Weight\"]]\n",
    "\n",
    "print(first)"
   ]
  },
  {
   "cell_type": "code",
   "execution_count": 9,
   "id": "1f7959e7",
   "metadata": {},
   "outputs": [
    {
     "name": "stdout",
     "output_type": "stream",
     "text": [
      "                         Team  Number Position   Age Height  Weight  \\\n",
      "Name                                                                  \n",
      "Avery Bradley  Boston Celtics     0.0       PG  25.0    6-2   180.0   \n",
      "R.J. Hunter    Boston Celtics    28.0       SG  22.0    6-5   185.0   \n",
      "John Holland   Boston Celtics    30.0       SG  27.0    6-5   205.0   \n",
      "Marcus Smart   Boston Celtics    36.0       PG  22.0    6-4   220.0   \n",
      "\n",
      "                         College     Salary  \n",
      "Name                                         \n",
      "Avery Bradley              Texas  7730337.0  \n",
      "R.J. Hunter        Georgia State  1148640.0  \n",
      "John Holland   Boston University        NaN  \n",
      "Marcus Smart      Oklahoma State  3431040.0  \n"
     ]
    }
   ],
   "source": [
    "#importing pandas package\n",
    "import pandas as pd\n",
    "\n",
    "#making data frame from csv file\n",
    "data = pd.read_csv(\"nba-2.csv\", index_col = \"Name\")\n",
    "\n",
    "#retrieving four row and all columns by loc method\n",
    "first = data.loc[[\"Avery Bradley\", \"R.J. Hunter\", \"John Holland\", \"Marcus Smart\"],:]\n",
    "\n",
    "print(first)"
   ]
  },
  {
   "cell_type": "code",
   "execution_count": 10,
   "id": "30254666",
   "metadata": {},
   "outputs": [
    {
     "name": "stdout",
     "output_type": "stream",
     "text": [
      "Team        Boston Celtics\n",
      "Number                28.0\n",
      "Position                SG\n",
      "Age                   22.0\n",
      "Height                 6-5\n",
      "Weight               185.0\n",
      "College      Georgia State\n",
      "Salary           1148640.0\n",
      "Name: R.J. Hunter, dtype: object\n"
     ]
    }
   ],
   "source": [
    "#importing pandas package\n",
    "import pandas as pd\n",
    "\n",
    "#making data frame from csv file\n",
    "data = pd.read_csv(\"nba-2.csv\", index_col = \"Name\")\n",
    "\n",
    "#retrieving row by iloc method\n",
    "row2 = data.iloc[3]\n",
    "\n",
    "print(row2)"
   ]
  },
  {
   "cell_type": "code",
   "execution_count": 11,
   "id": "ebd939d9",
   "metadata": {},
   "outputs": [
    {
     "name": "stdout",
     "output_type": "stream",
     "text": [
      "Team        Boston Celtics\n",
      "Number                55.0\n",
      "Position                PF\n",
      "Age                   21.0\n",
      "Height                 6-8\n",
      "Weight               235.0\n",
      "College                LSU\n",
      "Salary           1170960.0\n",
      "Name: Jordan Mickey, dtype: object\n"
     ]
    }
   ],
   "source": [
    "#importing pandas package\n",
    "import pandas as pd\n",
    "\n",
    "#making data frame from csv file\n",
    "data = pd.read_csv(\"nba-2.csv\", index_col = \"Name\")\n",
    "\n",
    "#retrieving row by iloc method\n",
    "row2 = data.iloc[6]\n",
    "\n",
    "print(row2)"
   ]
  },
  {
   "cell_type": "code",
   "execution_count": 12,
   "id": "8291e53e",
   "metadata": {},
   "outputs": [
    {
     "name": "stdout",
     "output_type": "stream",
     "text": [
      "Team        Utah Jazz\n",
      "Number            2.0\n",
      "Position           SF\n",
      "Age              28.0\n",
      "Height            6-8\n",
      "Weight          226.0\n",
      "College           NaN\n",
      "Salary      2050000.0\n",
      "Name: Joe Ingles, dtype: object\n"
     ]
    }
   ],
   "source": [
    "#retrieving row by iloc method\n",
    "row2 = data.iloc[450]\n",
    "\n",
    "print(row2)"
   ]
  },
  {
   "cell_type": "code",
   "execution_count": 13,
   "id": "6139c88d",
   "metadata": {},
   "outputs": [
    {
     "data": {
      "text/html": [
       "<div>\n",
       "<style scoped>\n",
       "    .dataframe tbody tr th:only-of-type {\n",
       "        vertical-align: middle;\n",
       "    }\n",
       "\n",
       "    .dataframe tbody tr th {\n",
       "        vertical-align: top;\n",
       "    }\n",
       "\n",
       "    .dataframe thead th {\n",
       "        text-align: right;\n",
       "    }\n",
       "</style>\n",
       "<table border=\"1\" class=\"dataframe\">\n",
       "  <thead>\n",
       "    <tr style=\"text-align: right;\">\n",
       "      <th></th>\n",
       "      <th>Team</th>\n",
       "      <th>Number</th>\n",
       "      <th>Position</th>\n",
       "      <th>Age</th>\n",
       "      <th>Height</th>\n",
       "      <th>Weight</th>\n",
       "      <th>College</th>\n",
       "      <th>Salary</th>\n",
       "    </tr>\n",
       "    <tr>\n",
       "      <th>Name</th>\n",
       "      <th></th>\n",
       "      <th></th>\n",
       "      <th></th>\n",
       "      <th></th>\n",
       "      <th></th>\n",
       "      <th></th>\n",
       "      <th></th>\n",
       "      <th></th>\n",
       "    </tr>\n",
       "  </thead>\n",
       "  <tbody>\n",
       "    <tr>\n",
       "      <th>R.J. Hunter</th>\n",
       "      <td>Boston Celtics</td>\n",
       "      <td>28.0</td>\n",
       "      <td>SG</td>\n",
       "      <td>22.0</td>\n",
       "      <td>6-5</td>\n",
       "      <td>185.0</td>\n",
       "      <td>Georgia State</td>\n",
       "      <td>1148640.0</td>\n",
       "    </tr>\n",
       "    <tr>\n",
       "      <th>Tony Wroten</th>\n",
       "      <td>New York Knicks</td>\n",
       "      <td>5.0</td>\n",
       "      <td>SG</td>\n",
       "      <td>23.0</td>\n",
       "      <td>6-6</td>\n",
       "      <td>205.0</td>\n",
       "      <td>Washington</td>\n",
       "      <td>167406.0</td>\n",
       "    </tr>\n",
       "    <tr>\n",
       "      <th>Jared Sullinger</th>\n",
       "      <td>Boston Celtics</td>\n",
       "      <td>7.0</td>\n",
       "      <td>C</td>\n",
       "      <td>24.0</td>\n",
       "      <td>6-9</td>\n",
       "      <td>260.0</td>\n",
       "      <td>Ohio State</td>\n",
       "      <td>2569260.0</td>\n",
       "    </tr>\n",
       "  </tbody>\n",
       "</table>\n",
       "</div>"
      ],
      "text/plain": [
       "                            Team  Number Position   Age Height  Weight  \\\n",
       "Name                                                                     \n",
       "R.J. Hunter       Boston Celtics    28.0       SG  22.0    6-5   185.0   \n",
       "Tony Wroten      New York Knicks     5.0       SG  23.0    6-6   205.0   \n",
       "Jared Sullinger   Boston Celtics     7.0        C  24.0    6-9   260.0   \n",
       "\n",
       "                       College     Salary  \n",
       "Name                                       \n",
       "R.J. Hunter      Georgia State  1148640.0  \n",
       "Tony Wroten         Washington   167406.0  \n",
       "Jared Sullinger     Ohio State  2569260.0  "
      ]
     },
     "execution_count": 13,
     "metadata": {},
     "output_type": "execute_result"
    }
   ],
   "source": [
    "#importing pandas package\n",
    "import pandas as pd\n",
    "\n",
    "#making data frame from csv file\n",
    "data = pd.read_csv(\"nba-2.csv\", index_col = \"Name\")\n",
    "\n",
    "#retrieving multiple row by iloc method\n",
    "row2 = data.iloc[[3, 45, 10]]\n",
    "\n",
    "row2"
   ]
  },
  {
   "cell_type": "code",
   "execution_count": 14,
   "id": "87913c58",
   "metadata": {},
   "outputs": [
    {
     "data": {
      "text/html": [
       "<div>\n",
       "<style scoped>\n",
       "    .dataframe tbody tr th:only-of-type {\n",
       "        vertical-align: middle;\n",
       "    }\n",
       "\n",
       "    .dataframe tbody tr th {\n",
       "        vertical-align: top;\n",
       "    }\n",
       "\n",
       "    .dataframe thead th {\n",
       "        text-align: right;\n",
       "    }\n",
       "</style>\n",
       "<table border=\"1\" class=\"dataframe\">\n",
       "  <thead>\n",
       "    <tr style=\"text-align: right;\">\n",
       "      <th></th>\n",
       "      <th>Team</th>\n",
       "      <th>Number</th>\n",
       "      <th>Position</th>\n",
       "      <th>Age</th>\n",
       "      <th>Height</th>\n",
       "      <th>Weight</th>\n",
       "      <th>College</th>\n",
       "      <th>Salary</th>\n",
       "    </tr>\n",
       "    <tr>\n",
       "      <th>Name</th>\n",
       "      <th></th>\n",
       "      <th></th>\n",
       "      <th></th>\n",
       "      <th></th>\n",
       "      <th></th>\n",
       "      <th></th>\n",
       "      <th></th>\n",
       "      <th></th>\n",
       "    </tr>\n",
       "  </thead>\n",
       "  <tbody>\n",
       "    <tr>\n",
       "      <th>Stephen Curry</th>\n",
       "      <td>Golden State Warriors</td>\n",
       "      <td>30.0</td>\n",
       "      <td>PG</td>\n",
       "      <td>28.0</td>\n",
       "      <td>6-3</td>\n",
       "      <td>190.0</td>\n",
       "      <td>Davidson</td>\n",
       "      <td>11370786.0</td>\n",
       "    </tr>\n",
       "    <tr>\n",
       "      <th>Joe Ingles</th>\n",
       "      <td>Utah Jazz</td>\n",
       "      <td>2.0</td>\n",
       "      <td>SF</td>\n",
       "      <td>28.0</td>\n",
       "      <td>6-8</td>\n",
       "      <td>226.0</td>\n",
       "      <td>NaN</td>\n",
       "      <td>2050000.0</td>\n",
       "    </tr>\n",
       "    <tr>\n",
       "      <th>Jrue Holiday</th>\n",
       "      <td>New Orleans Pelicans</td>\n",
       "      <td>11.0</td>\n",
       "      <td>PG</td>\n",
       "      <td>25.0</td>\n",
       "      <td>6-4</td>\n",
       "      <td>205.0</td>\n",
       "      <td>UCLA</td>\n",
       "      <td>10595507.0</td>\n",
       "    </tr>\n",
       "    <tr>\n",
       "      <th>Elton Brand</th>\n",
       "      <td>Philadelphia 76ers</td>\n",
       "      <td>42.0</td>\n",
       "      <td>PF</td>\n",
       "      <td>37.0</td>\n",
       "      <td>6-9</td>\n",
       "      <td>254.0</td>\n",
       "      <td>Duke</td>\n",
       "      <td>NaN</td>\n",
       "    </tr>\n",
       "    <tr>\n",
       "      <th>Danny Green</th>\n",
       "      <td>San Antonio Spurs</td>\n",
       "      <td>14.0</td>\n",
       "      <td>SG</td>\n",
       "      <td>28.0</td>\n",
       "      <td>6-6</td>\n",
       "      <td>215.0</td>\n",
       "      <td>North Carolina</td>\n",
       "      <td>10000000.0</td>\n",
       "    </tr>\n",
       "    <tr>\n",
       "      <th>Doug McDermott</th>\n",
       "      <td>Chicago Bulls</td>\n",
       "      <td>3.0</td>\n",
       "      <td>SF</td>\n",
       "      <td>24.0</td>\n",
       "      <td>6-8</td>\n",
       "      <td>225.0</td>\n",
       "      <td>Creighton</td>\n",
       "      <td>2380440.0</td>\n",
       "    </tr>\n",
       "  </tbody>\n",
       "</table>\n",
       "</div>"
      ],
      "text/plain": [
       "                                 Team  Number Position   Age Height  Weight  \\\n",
       "Name                                                                          \n",
       "Stephen Curry   Golden State Warriors    30.0       PG  28.0    6-3   190.0   \n",
       "Joe Ingles                  Utah Jazz     2.0       SF  28.0    6-8   226.0   \n",
       "Jrue Holiday     New Orleans Pelicans    11.0       PG  25.0    6-4   205.0   \n",
       "Elton Brand        Philadelphia 76ers    42.0       PF  37.0    6-9   254.0   \n",
       "Danny Green         San Antonio Spurs    14.0       SG  28.0    6-6   215.0   \n",
       "Doug McDermott          Chicago Bulls     3.0       SF  24.0    6-8   225.0   \n",
       "\n",
       "                       College      Salary  \n",
       "Name                                        \n",
       "Stephen Curry         Davidson  11370786.0  \n",
       "Joe Ingles                 NaN   2050000.0  \n",
       "Jrue Holiday              UCLA  10595507.0  \n",
       "Elton Brand               Duke         NaN  \n",
       "Danny Green     North Carolina  10000000.0  \n",
       "Doug McDermott       Creighton   2380440.0  "
      ]
     },
     "execution_count": 14,
     "metadata": {},
     "output_type": "execute_result"
    }
   ],
   "source": [
    "#importing pandas package\n",
    "import pandas as pd\n",
    "\n",
    "#making data frame from csv file\n",
    "data = pd.read_csv(\"nba-2.csv\", index_col = \"Name\")\n",
    "\n",
    "#retrieving multiple row by iloc method\n",
    "row2 = data.iloc[[80, 450, 290, 46, 300, 159]]\n",
    "\n",
    "row2"
   ]
  },
  {
   "cell_type": "code",
   "execution_count": 15,
   "id": "006a3546",
   "metadata": {},
   "outputs": [
    {
     "data": {
      "text/html": [
       "<div>\n",
       "<style scoped>\n",
       "    .dataframe tbody tr th:only-of-type {\n",
       "        vertical-align: middle;\n",
       "    }\n",
       "\n",
       "    .dataframe tbody tr th {\n",
       "        vertical-align: top;\n",
       "    }\n",
       "\n",
       "    .dataframe thead th {\n",
       "        text-align: right;\n",
       "    }\n",
       "</style>\n",
       "<table border=\"1\" class=\"dataframe\">\n",
       "  <thead>\n",
       "    <tr style=\"text-align: right;\">\n",
       "      <th></th>\n",
       "      <th>Number</th>\n",
       "      <th>Position</th>\n",
       "    </tr>\n",
       "    <tr>\n",
       "      <th>Name</th>\n",
       "      <th></th>\n",
       "      <th></th>\n",
       "    </tr>\n",
       "  </thead>\n",
       "  <tbody>\n",
       "    <tr>\n",
       "      <th>R.J. Hunter</th>\n",
       "      <td>28.0</td>\n",
       "      <td>SG</td>\n",
       "    </tr>\n",
       "    <tr>\n",
       "      <th>Tony Wroten</th>\n",
       "      <td>5.0</td>\n",
       "      <td>SG</td>\n",
       "    </tr>\n",
       "  </tbody>\n",
       "</table>\n",
       "</div>"
      ],
      "text/plain": [
       "             Number Position\n",
       "Name                        \n",
       "R.J. Hunter    28.0       SG\n",
       "Tony Wroten     5.0       SG"
      ]
     },
     "execution_count": 15,
     "metadata": {},
     "output_type": "execute_result"
    }
   ],
   "source": [
    "#importing pandas package\n",
    "import pandas as pd\n",
    "\n",
    "#making data frame from csv file\n",
    "data = pd.read_csv(\"nba-2.csv\", index_col = \"Name\")\n",
    "\n",
    "#retrieving two row and two columns by iloc method\n",
    "row2 = data.iloc[[3, 45], [1, 2]]\n",
    "\n",
    "row2"
   ]
  },
  {
   "cell_type": "code",
   "execution_count": 16,
   "id": "21816e34",
   "metadata": {},
   "outputs": [
    {
     "data": {
      "text/html": [
       "<div>\n",
       "<style scoped>\n",
       "    .dataframe tbody tr th:only-of-type {\n",
       "        vertical-align: middle;\n",
       "    }\n",
       "\n",
       "    .dataframe tbody tr th {\n",
       "        vertical-align: top;\n",
       "    }\n",
       "\n",
       "    .dataframe thead th {\n",
       "        text-align: right;\n",
       "    }\n",
       "</style>\n",
       "<table border=\"1\" class=\"dataframe\">\n",
       "  <thead>\n",
       "    <tr style=\"text-align: right;\">\n",
       "      <th></th>\n",
       "      <th>Age</th>\n",
       "      <th>Position</th>\n",
       "      <th>Number</th>\n",
       "      <th>Height</th>\n",
       "    </tr>\n",
       "    <tr>\n",
       "      <th>Name</th>\n",
       "      <th></th>\n",
       "      <th></th>\n",
       "      <th></th>\n",
       "      <th></th>\n",
       "    </tr>\n",
       "  </thead>\n",
       "  <tbody>\n",
       "    <tr>\n",
       "      <th>Thaddeus Young</th>\n",
       "      <td>27.0</td>\n",
       "      <td>PF</td>\n",
       "      <td>30.0</td>\n",
       "      <td>6-8</td>\n",
       "    </tr>\n",
       "    <tr>\n",
       "      <th>Joe Ingles</th>\n",
       "      <td>28.0</td>\n",
       "      <td>SF</td>\n",
       "      <td>2.0</td>\n",
       "      <td>6-8</td>\n",
       "    </tr>\n",
       "    <tr>\n",
       "      <th>Patrick Patterson</th>\n",
       "      <td>27.0</td>\n",
       "      <td>PF</td>\n",
       "      <td>54.0</td>\n",
       "      <td>6-9</td>\n",
       "    </tr>\n",
       "    <tr>\n",
       "      <th>Blake Griffin</th>\n",
       "      <td>27.0</td>\n",
       "      <td>PF</td>\n",
       "      <td>32.0</td>\n",
       "      <td>6-10</td>\n",
       "    </tr>\n",
       "    <tr>\n",
       "      <th>Montrezl Harrell</th>\n",
       "      <td>22.0</td>\n",
       "      <td>PF</td>\n",
       "      <td>35.0</td>\n",
       "      <td>6-8</td>\n",
       "    </tr>\n",
       "  </tbody>\n",
       "</table>\n",
       "</div>"
      ],
      "text/plain": [
       "                    Age Position  Number Height\n",
       "Name                                           \n",
       "Thaddeus Young     27.0       PF    30.0    6-8\n",
       "Joe Ingles         28.0       SF     2.0    6-8\n",
       "Patrick Patterson  27.0       PF    54.0    6-9\n",
       "Blake Griffin      27.0       PF    32.0   6-10\n",
       "Montrezl Harrell   22.0       PF    35.0    6-8"
      ]
     },
     "execution_count": 16,
     "metadata": {},
     "output_type": "execute_result"
    }
   ],
   "source": [
    "#importing pandas package\n",
    "import pandas as pd\n",
    "\n",
    "#making data frame from csv file\n",
    "data = pd.read_csv(\"nba-2.csv\", index_col = \"Name\")\n",
    "\n",
    "#retrieving multiple row and multiple columns by iloc method\n",
    "row2 = data.iloc[[29, 450, 69, 96, 250], [3, 2, 1, 4]]\n",
    "\n",
    "row2"
   ]
  }
 ],
 "metadata": {
  "kernelspec": {
   "display_name": "Python 3 (ipykernel)",
   "language": "python",
   "name": "python3"
  },
  "language_info": {
   "codemirror_mode": {
    "name": "ipython",
    "version": 3
   },
   "file_extension": ".py",
   "mimetype": "text/x-python",
   "name": "python",
   "nbconvert_exporter": "python",
   "pygments_lexer": "ipython3",
   "version": "3.10.6"
  }
 },
 "nbformat": 4,
 "nbformat_minor": 5
}
