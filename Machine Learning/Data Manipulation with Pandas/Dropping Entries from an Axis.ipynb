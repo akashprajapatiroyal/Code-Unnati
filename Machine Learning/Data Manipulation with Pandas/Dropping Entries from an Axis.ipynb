{
 "cells": [
  {
   "attachments": {},
   "cell_type": "markdown",
   "id": "eb9810e1",
   "metadata": {},
   "source": [
    "# Dropping entries from an axis "
   ]
  },
  {
   "cell_type": "code",
   "execution_count": 1,
   "id": "e11c22e5",
   "metadata": {},
   "outputs": [
    {
     "name": "stdout",
     "output_type": "stream",
     "text": [
      "    name  qualified\n",
      "0  Sally       True\n",
      "1   Mary      False\n",
      "2   John      False\n"
     ]
    }
   ],
   "source": [
    "#importing pandas as pd\n",
    "import pandas as pd \n",
    "\n",
    " \n",
    "data = {\n",
    "    \"name\":[\"Sally\", \"Mary\", \"John\"],\n",
    "    \"age\":[50, 40, 30],\n",
    "    \"qualified\":[True, False, False]\n",
    "       }\n",
    "\n",
    "df = pd.DataFrame(data)\n",
    "\n",
    "\n",
    "newdf = df.drop(\"age\", axis = 'columns')\n",
    "\n",
    "#print the Dataframe\n",
    "print(newdf)"
   ]
  },
  {
   "cell_type": "code",
   "execution_count": 4,
   "id": "c2d7d012",
   "metadata": {},
   "outputs": [
    {
     "data": {
      "text/html": [
       "<div>\n",
       "<style scoped>\n",
       "    .dataframe tbody tr th:only-of-type {\n",
       "        vertical-align: middle;\n",
       "    }\n",
       "\n",
       "    .dataframe tbody tr th {\n",
       "        vertical-align: top;\n",
       "    }\n",
       "\n",
       "    .dataframe thead th {\n",
       "        text-align: right;\n",
       "    }\n",
       "</style>\n",
       "<table border=\"1\" class=\"dataframe\">\n",
       "  <thead>\n",
       "    <tr style=\"text-align: right;\">\n",
       "      <th></th>\n",
       "      <th>name</th>\n",
       "      <th>qualified</th>\n",
       "    </tr>\n",
       "  </thead>\n",
       "  <tbody>\n",
       "    <tr>\n",
       "      <th>0</th>\n",
       "      <td>Sally</td>\n",
       "      <td>True</td>\n",
       "    </tr>\n",
       "    <tr>\n",
       "      <th>1</th>\n",
       "      <td>Mary</td>\n",
       "      <td>False</td>\n",
       "    </tr>\n",
       "    <tr>\n",
       "      <th>2</th>\n",
       "      <td>John</td>\n",
       "      <td>False</td>\n",
       "    </tr>\n",
       "  </tbody>\n",
       "</table>\n",
       "</div>"
      ],
      "text/plain": [
       "    name  qualified\n",
       "0  Sally       True\n",
       "1   Mary      False\n",
       "2   John      False"
      ]
     },
     "execution_count": 4,
     "metadata": {},
     "output_type": "execute_result"
    }
   ],
   "source": [
    "#print the Dataframe\n",
    "newdf"
   ]
  },
  {
   "cell_type": "code",
   "execution_count": 5,
   "id": "465c7e68",
   "metadata": {},
   "outputs": [
    {
     "name": "stdout",
     "output_type": "stream",
     "text": [
      "    name  age  qualified\n",
      "0  Sally   50       True\n",
      "1   Mary   40      False\n",
      "2   John   30      False\n",
      "    name  qualified\n",
      "0  Sally       True\n",
      "1   Mary      False\n",
      "2   John      False\n"
     ]
    }
   ],
   "source": [
    "#print the Dataframe\n",
    "print(df)\n",
    "print(newdf)"
   ]
  }
 ],
 "metadata": {
  "kernelspec": {
   "display_name": "Python 3 (ipykernel)",
   "language": "python",
   "name": "python3"
  },
  "language_info": {
   "codemirror_mode": {
    "name": "ipython",
    "version": 3
   },
   "file_extension": ".py",
   "mimetype": "text/x-python",
   "name": "python",
   "nbconvert_exporter": "python",
   "pygments_lexer": "ipython3",
   "version": "3.10.6"
  }
 },
 "nbformat": 4,
 "nbformat_minor": 5
}
