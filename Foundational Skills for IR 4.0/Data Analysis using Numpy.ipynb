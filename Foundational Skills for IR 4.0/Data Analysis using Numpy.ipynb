{
 "cells": [
  {
   "attachments": {},
   "cell_type": "markdown",
   "id": "9fd8fb50",
   "metadata": {},
   "source": [
    "# NumPy - Numerical Python Library"
   ]
  },
  {
   "cell_type": "code",
   "execution_count": 1,
   "id": "5cc924e7",
   "metadata": {},
   "outputs": [],
   "source": [
    "#Import Numpy\n",
    "\n",
    "import numpy as np"
   ]
  },
  {
   "cell_type": "code",
   "execution_count": 2,
   "id": "e85e2408",
   "metadata": {},
   "outputs": [
    {
     "data": {
      "text/plain": [
       "array([[1, 2, 3, 4],\n",
       "       [5, 6, 7, 8]])"
      ]
     },
     "execution_count": 2,
     "metadata": {},
     "output_type": "execute_result"
    }
   ],
   "source": [
    "# Create a simple array from the List\n",
    "\n",
    "arr = np.array([[1,2,3,4],[5,6,7,8]])\n",
    "arr"
   ]
  },
  {
   "cell_type": "code",
   "execution_count": 3,
   "id": "d4a1dd30",
   "metadata": {},
   "outputs": [
    {
     "name": "stdout",
     "output_type": "stream",
     "text": [
      "2\n"
     ]
    }
   ],
   "source": [
    "#Dimension of Array\n",
    "print(arr.ndim)"
   ]
  },
  {
   "cell_type": "code",
   "execution_count": 4,
   "id": "21ec5afe",
   "metadata": {},
   "outputs": [
    {
     "name": "stdout",
     "output_type": "stream",
     "text": [
      "(2, 4)\n"
     ]
    }
   ],
   "source": [
    "#Shape of an Array\n",
    "print(arr.shape)"
   ]
  },
  {
   "cell_type": "code",
   "execution_count": 5,
   "id": "99aa0f39",
   "metadata": {},
   "outputs": [
    {
     "name": "stdout",
     "output_type": "stream",
     "text": [
      "<class 'numpy.ndarray'>\n"
     ]
    }
   ],
   "source": [
    "#Dimensions of the Array\n",
    "\n",
    "print(type(arr))"
   ]
  },
  {
   "cell_type": "code",
   "execution_count": 6,
   "id": "3adcdc02",
   "metadata": {},
   "outputs": [
    {
     "name": "stdout",
     "output_type": "stream",
     "text": [
      "<memory at 0x0000023637512810>\n"
     ]
    }
   ],
   "source": [
    "#Dimensions of the Array\n",
    "\n",
    "print(arr.data)"
   ]
  },
  {
   "cell_type": "code",
   "execution_count": 7,
   "id": "2dace372",
   "metadata": {},
   "outputs": [
    {
     "name": "stdout",
     "output_type": "stream",
     "text": [
      "[[20 21 22]\n",
      " [25 26 27]\n",
      " [30 31 32]] \n",
      "\n"
     ]
    }
   ],
   "source": [
    "b = np.array([[20,21,22],[25,26,27],[30,31,32]])\n",
    "print(b,\"\\n\")"
   ]
  },
  {
   "cell_type": "code",
   "execution_count": 8,
   "id": "d5c9b98f",
   "metadata": {},
   "outputs": [
    {
     "data": {
      "text/plain": [
       "dtype('int32')"
      ]
     },
     "execution_count": 8,
     "metadata": {},
     "output_type": "execute_result"
    }
   ],
   "source": [
    "b.dtype"
   ]
  },
  {
   "cell_type": "code",
   "execution_count": 9,
   "id": "c40f939e",
   "metadata": {},
   "outputs": [
    {
     "data": {
      "text/plain": [
       "4"
      ]
     },
     "execution_count": 9,
     "metadata": {},
     "output_type": "execute_result"
    }
   ],
   "source": [
    "b.itemsize"
   ]
  },
  {
   "cell_type": "code",
   "execution_count": 10,
   "id": "e16e3bea",
   "metadata": {},
   "outputs": [
    {
     "data": {
      "text/plain": [
       "9"
      ]
     },
     "execution_count": 10,
     "metadata": {},
     "output_type": "execute_result"
    }
   ],
   "source": [
    "b.size"
   ]
  },
  {
   "cell_type": "code",
   "execution_count": 11,
   "id": "5ca5b91b",
   "metadata": {},
   "outputs": [
    {
     "data": {
      "text/plain": [
       "(3, 3)"
      ]
     },
     "execution_count": 11,
     "metadata": {},
     "output_type": "execute_result"
    }
   ],
   "source": [
    "b.shape"
   ]
  },
  {
   "cell_type": "code",
   "execution_count": 12,
   "id": "1b3c8677",
   "metadata": {},
   "outputs": [
    {
     "name": "stdout",
     "output_type": "stream",
     "text": [
      "[[20. 21. 22.]\n",
      " [25. 26. 27.]\n",
      " [30. 31. 32.]] \n",
      "\n",
      "float64 \n",
      "\n",
      "8\n"
     ]
    }
   ],
   "source": [
    "b = np.array([[20,21,22],[25,26,27],[30,31,32]], dtype=np.float64)\n",
    "print(b,\"\\n\")\n",
    "print(b.dtype,\"\\n\")\n",
    "print(b.itemsize)"
   ]
  },
  {
   "cell_type": "code",
   "execution_count": 13,
   "id": "c924f528",
   "metadata": {},
   "outputs": [
    {
     "name": "stdout",
     "output_type": "stream",
     "text": [
      "[[20.+0.j 21.+0.j 22.+0.j]\n",
      " [25.+0.j 26.+0.j 27.+0.j]\n",
      " [30.+0.j 31.+0.j 32.+0.j]] \n",
      "\n",
      "complex64 \n",
      "\n",
      "8 \n",
      "\n",
      "[[20.+0.j 21.+0.j 22.+0.j]\n",
      " [25.+0.j 26.+0.j 27.+0.j]\n",
      " [30.+0.j 31.+0.j 32.+0.j]] \n",
      "\n",
      "complex128 \n",
      "\n",
      "16 \n",
      "\n"
     ]
    }
   ],
   "source": [
    "z = np.array([[20,21,22],[25,26,27],[30,31,32]], dtype=np.complex64)\n",
    "t = np.array([[20,21,22],[25,26,27],[30,31,32]], dtype=np.complex128)\n",
    "print(z,\"\\n\")\n",
    "print(z.dtype,\"\\n\")\n",
    "print(z.itemsize,\"\\n\")\n",
    "print(t,\"\\n\")\n",
    "print(t.dtype,\"\\n\")\n",
    "print(t.itemsize,\"\\n\")"
   ]
  },
  {
   "cell_type": "code",
   "execution_count": 14,
   "id": "d549220d",
   "metadata": {},
   "outputs": [
    {
     "name": "stdout",
     "output_type": "stream",
     "text": [
      "234.0\n"
     ]
    }
   ],
   "source": [
    "#Sum value of an Array\n",
    "print(np.sum(b))"
   ]
  },
  {
   "cell_type": "code",
   "execution_count": 15,
   "id": "dd471d5a",
   "metadata": {},
   "outputs": [
    {
     "name": "stdout",
     "output_type": "stream",
     "text": [
      "[[20. 21. 22.]\n",
      " [25. 26. 27.]\n",
      " [30. 31. 32.]] \n",
      "\n",
      "[75. 78. 81.]\n",
      "[63. 78. 93.]\n"
     ]
    }
   ],
   "source": [
    "#Sum Value along a specified axis\n",
    "\n",
    "print(b,\"\\n\")\n",
    "print(np.sum(b, axis=0))\n",
    "print(np.sum(b, axis=1))"
   ]
  },
  {
   "cell_type": "code",
   "execution_count": 16,
   "id": "45e7fe33",
   "metadata": {},
   "outputs": [
    {
     "name": "stdout",
     "output_type": "stream",
     "text": [
      "[[20. 21. 22.]\n",
      " [25. 26. 27.]\n",
      " [30. 31. 32.]] \n",
      "\n",
      "20.0\n",
      "[20. 21. 22.]\n",
      "[20. 25. 30.]\n"
     ]
    }
   ],
   "source": [
    "#Minimum Value\n",
    "print(b,\"\\n\")\n",
    "print(np.amin(b))\n",
    "print(np.amin(b,axis=0))\n",
    "print(np.amin(b,axis=1))"
   ]
  },
  {
   "cell_type": "code",
   "execution_count": 17,
   "id": "162265a4",
   "metadata": {},
   "outputs": [
    {
     "name": "stdout",
     "output_type": "stream",
     "text": [
      "32.0\n",
      "[30. 31. 32.]\n",
      "[22. 27. 32.]\n",
      "<class 'numpy.ndarray'>\n"
     ]
    }
   ],
   "source": [
    "#Maximum Value\n",
    "print(np.max(b))\n",
    "print(np.max(b,axis=0))\n",
    "print(np.max(b,axis=1))\n",
    "print(type(b))"
   ]
  },
  {
   "cell_type": "code",
   "execution_count": 18,
   "id": "bbbe0eb6",
   "metadata": {},
   "outputs": [
    {
     "name": "stdout",
     "output_type": "stream",
     "text": [
      "26.0\n",
      "[25. 26. 27.]\n",
      "[21. 26. 31.]\n",
      "<class 'numpy.ndarray'>\n"
     ]
    }
   ],
   "source": [
    "#Mean\n",
    "print(np.mean(b))\n",
    "print(np.mean(b,axis=0))\n",
    "print(np.mean(b,axis=1))\n",
    "print(type(b))"
   ]
  },
  {
   "cell_type": "code",
   "execution_count": 19,
   "id": "a0af4eba",
   "metadata": {},
   "outputs": [
    {
     "name": "stdout",
     "output_type": "stream",
     "text": [
      "[[20. 21. 22.]\n",
      " [25. 26. 27.]\n",
      " [30. 31. 32.]] \n",
      "\n",
      "17.333333333333332\n",
      "[16.66666667 16.66666667 16.66666667]\n",
      "[0.66666667 0.66666667 0.66666667]\n"
     ]
    }
   ],
   "source": [
    "#Variance\n",
    "print(b,\"\\n\")\n",
    "print(np.var(b))\n",
    "print(np.var(b,axis=0))\n",
    "print(np.var(b,axis=1))"
   ]
  },
  {
   "cell_type": "code",
   "execution_count": 20,
   "id": "4548810c",
   "metadata": {},
   "outputs": [
    {
     "name": "stdout",
     "output_type": "stream",
     "text": [
      "26.0\n"
     ]
    }
   ],
   "source": [
    "# Weighted Average\n",
    "print(np.average(b))"
   ]
  },
  {
   "cell_type": "code",
   "execution_count": 21,
   "id": "347a4fcd",
   "metadata": {},
   "outputs": [
    {
     "name": "stdout",
     "output_type": "stream",
     "text": [
      "[ 2  4  6  1  3  5  8 10 12  7  9 11]\n"
     ]
    }
   ],
   "source": [
    "c = np.array([2,4,6, 1,3,5, 8,10,12, 7,9,11])\n",
    "print(c)"
   ]
  },
  {
   "cell_type": "code",
   "execution_count": 22,
   "id": "af54fbe5",
   "metadata": {},
   "outputs": [
    {
     "name": "stdout",
     "output_type": "stream",
     "text": [
      "[0.25 0.5  0.25 0.5  0.25 0.5  0.25 0.5  0.25 0.5  0.25 0.5 ]\n"
     ]
    }
   ],
   "source": [
    "weight = np.array([0.25,0.5,0.25,0.5,0.25,0.5,0.25,0.5,0.25,0.5,0.25,0.5])\n",
    "print(weight)"
   ]
  },
  {
   "cell_type": "code",
   "execution_count": 23,
   "id": "9cce964e",
   "metadata": {},
   "outputs": [
    {
     "name": "stdout",
     "output_type": "stream",
     "text": [
      "6.444444444444445\n"
     ]
    }
   ],
   "source": [
    "print(np.average(c, weights=weight))"
   ]
  },
  {
   "cell_type": "code",
   "execution_count": 24,
   "id": "07415cb7",
   "metadata": {},
   "outputs": [
    {
     "name": "stdout",
     "output_type": "stream",
     "text": [
      "[ 2  4  6  1  3  5  8 10 12  7  9 11] \n",
      "\n",
      "1.55\n",
      "1.88\n",
      "[20.1 25.1 30.1]\n",
      "[20.5 21.5 22.5]\n",
      "[20.4 21.4 22.4]\n",
      "[20.08 25.08 30.08]\n"
     ]
    }
   ],
   "source": [
    "#Percentile\n",
    "print(c,\"\\n\")\n",
    "print(np.percentile(c,5,0))\n",
    "print(np.percentile(c,8,0))\n",
    "print(np.percentile(b,5,1))\n",
    "print(np.percentile(b,5,0))\n",
    "print(np.percentile(b,4,0))\n",
    "print(np.percentile(b,4,1))"
   ]
  },
  {
   "cell_type": "code",
   "execution_count": 25,
   "id": "364e1f29",
   "metadata": {},
   "outputs": [
    {
     "name": "stdout",
     "output_type": "stream",
     "text": [
      "[[20. 21. 22.]\n",
      " [25. 26. 27.]\n",
      " [30. 31. 32.]] \n",
      "\n",
      "[ 2  4  6  1  3  5  8 10 12  7  9 11] \n",
      "\n",
      "11\n",
      "[10. 10. 10.]\n",
      "[2. 2. 2.]\n"
     ]
    }
   ],
   "source": [
    "# Peak to Peak\n",
    "print(b,\"\\n\")\n",
    "print(c,\"\\n\")\n",
    "print(np.ptp(c,0))\n",
    "print(np.ptp(b,0))\n",
    "print(np.ptp(b,1))"
   ]
  },
  {
   "cell_type": "code",
   "execution_count": 27,
   "id": "ef1c0d01",
   "metadata": {},
   "outputs": [
    {
     "name": "stdout",
     "output_type": "stream",
     "text": [
      "[[20. 21. 22.]\n",
      " [25. 26. 27.]\n",
      " [30. 31. 32.]] \n",
      "\n",
      "(3, 3) \n",
      "\n",
      "[[20. 21. 22.]\n",
      " [25. 26. 27.]\n",
      " [30. 31. 32.]] \n",
      "\n",
      "[[20. 21. 22.]\n",
      " [25. 26. 27.]\n",
      " [30. 31. 32.]]\n"
     ]
    }
   ],
   "source": [
    "print(b,\"\\n\")\n",
    "print(b.shape,\"\\n\")\n",
    "print(b.reshape(3,3),\"\\n\")\n",
    "print(b)\n"
   ]
  },
  {
   "cell_type": "code",
   "execution_count": 28,
   "id": "6e872334",
   "metadata": {},
   "outputs": [
    {
     "name": "stdout",
     "output_type": "stream",
     "text": [
      "[[ 20 100  22]\n",
      " [ 25   0  27]\n",
      " [ 99  31  32]\n",
      " [ 33 245 789]] \n",
      "\n",
      "[ 2  4  6  1  3  5  8 10 12  7  9 11] \n",
      "\n",
      "11\n",
      "[ 79 245 767]\n",
      "[ 80  27  68 756]\n"
     ]
    }
   ],
   "source": [
    "b = np.array([[20,100,22],[25,0,27],[99,31,32],[33,245,789]])\n",
    "print(b,\"\\n\")\n",
    "print(c,\"\\n\")\n",
    "print(np.ptp(c,0))\n",
    "print(np.ptp(b,0))\n",
    "print(np.ptp(b,1))"
   ]
  },
  {
   "cell_type": "code",
   "execution_count": 29,
   "id": "0680e6b5",
   "metadata": {},
   "outputs": [
    {
     "name": "stdout",
     "output_type": "stream",
     "text": [
      "[[ 20 100  22]\n",
      " [ 25   0  27]\n",
      " [ 99  31  32]\n",
      " [ 33 245 789]] \n",
      "\n",
      "(4, 3) \n",
      "\n",
      "[[ 20 100  22  25]\n",
      " [  0  27  99  31]\n",
      " [ 32  33 245 789]] \n",
      "\n",
      "[[ 20 100  22]\n",
      " [ 25   0  27]\n",
      " [ 99  31  32]\n",
      " [ 33 245 789]]\n"
     ]
    }
   ],
   "source": [
    "print(b,\"\\n\")\n",
    "print(b.shape,\"\\n\")\n",
    "print(b.reshape(3,4),\"\\n\")\n",
    "print(b)\n"
   ]
  },
  {
   "cell_type": "code",
   "execution_count": 30,
   "id": "8fbe5ac4",
   "metadata": {},
   "outputs": [
    {
     "name": "stdout",
     "output_type": "stream",
     "text": [
      "[25, 35, 50, 55] \n",
      "\n",
      "95\n"
     ]
    }
   ],
   "source": [
    "#Slicing\n",
    "e=[25,35,50,55,70,85,95]\n",
    "print(e[0:4],\"\\n\")\n",
    "print(e[-1])"
   ]
  },
  {
   "cell_type": "code",
   "execution_count": 31,
   "id": "047d24e9",
   "metadata": {},
   "outputs": [
    {
     "name": "stdout",
     "output_type": "stream",
     "text": [
      "[[23 25 27 29]\n",
      " [43 45 47 49]\n",
      " [62 66 68 70]] \n",
      "\n",
      "29 \n",
      "\n",
      "47 \n",
      "\n",
      "70 \n",
      "\n",
      "25 \n",
      "\n",
      "[25 45] \n",
      "\n",
      "[62 66 68 70] \n",
      "\n",
      "[62 66] \n",
      "\n"
     ]
    }
   ],
   "source": [
    "#2D Array\n",
    "l=np.array([[23,25,27,29],[43,45,47,49],[62,66,68,70]])\n",
    "print(l,\"\\n\")\n",
    "print(l[0,3],\"\\n\")\n",
    "print(l[1,2],\"\\n\")\n",
    "print(l[2,3],\"\\n\")\n",
    "print(l[0,1],\"\\n\")\n",
    "print(l[0:2,1],\"\\n\")\n",
    "print(l[-1],\"\\n\")\n",
    "print(l[-1,0:2],\"\\n\")"
   ]
  },
  {
   "attachments": {},
   "cell_type": "markdown",
   "id": "03c759b0",
   "metadata": {},
   "source": [
    "# STACKING"
   ]
  },
  {
   "cell_type": "code",
   "execution_count": 32,
   "id": "c19c06fb",
   "metadata": {},
   "outputs": [
    {
     "name": "stdout",
     "output_type": "stream",
     "text": [
      "[[ 0  1  2  3]\n",
      " [ 4  5  6  7]\n",
      " [ 8  9 10 11]] \n",
      "\n",
      "[[12 13 14 15]\n",
      " [16 17 18 19]\n",
      " [20 21 22 23]]\n"
     ]
    }
   ],
   "source": [
    "d=np.arange(12).reshape(3,4)\n",
    "print(d,\"\\n\")\n",
    "f=np.arange(12,24).reshape(3,4)\n",
    "print(f)"
   ]
  },
  {
   "cell_type": "code",
   "execution_count": 33,
   "id": "257363c7",
   "metadata": {},
   "outputs": [
    {
     "name": "stdout",
     "output_type": "stream",
     "text": [
      "[[ 0  1  2  3]\n",
      " [ 4  5  6  7]\n",
      " [ 8  9 10 11]] \n",
      "\n",
      "[[12 13 14 15]\n",
      " [16 17 18 19]\n",
      " [20 21 22 23]] \n",
      "\n",
      "[[ 0  1  2  3]\n",
      " [ 4  5  6  7]\n",
      " [ 8  9 10 11]\n",
      " [12 13 14 15]\n",
      " [16 17 18 19]\n",
      " [20 21 22 23]] \n",
      "\n",
      "[[ 0  1  2  3]\n",
      " [ 4  5  6  7]\n",
      " [ 8  9 10 11]\n",
      " [12 13 14 15]\n",
      " [16 17 18 19]\n",
      " [20 21 22 23]] \n",
      "\n"
     ]
    }
   ],
   "source": [
    "print(d,\"\\n\")\n",
    "print(f,\"\\n\")\n",
    "print(np.vstack((d,f)),\"\\n\")\n",
    "print(np.vstack((d,f)),\"\\n\")"
   ]
  },
  {
   "cell_type": "code",
   "execution_count": 34,
   "id": "63ccce14",
   "metadata": {},
   "outputs": [
    {
     "name": "stdout",
     "output_type": "stream",
     "text": [
      "[ 2  8 10 35 55 60] \n",
      " \n",
      "\n",
      "[ 1  7  9 34 54 59] \n",
      "\n",
      "[  3  15  19  69 109 119] \n",
      "\n",
      "[1 1 1 1 1 1] \n",
      "\n",
      "[   2   56   90 1190 2970 3540] \n",
      "\n",
      "[2.         1.14285714 1.11111111 1.02941176 1.01851852 1.01694915] \n",
      "\n",
      "[2 1 1 1 1 1]\n"
     ]
    }
   ],
   "source": [
    "x=np.array([2,8,10,35,55,60])\n",
    "y=np.array([1,7,9,34,54,59])\n",
    "print(x,\"\\n\",\"\\n\")\n",
    "print(y,\"\\n\")\n",
    "print(x+y,\"\\n\")\n",
    "print(x-y,\"\\n\")\n",
    "print(x*y,\"\\n\")\n",
    "print(x/y,\"\\n\")\n",
    "print(x//y)"
   ]
  },
  {
   "cell_type": "code",
   "execution_count": 35,
   "id": "0fcd6ec7",
   "metadata": {},
   "outputs": [
    {
     "name": "stdout",
     "output_type": "stream",
     "text": [
      "[[0. 0. 0.]\n",
      " [0. 0. 0.]\n",
      " [0. 0. 0.]\n",
      " [0. 0. 0.]] \n",
      "\n",
      "[[1. 1. 1. ... 1. 1. 1.]\n",
      " [1. 1. 1. ... 1. 1. 1.]\n",
      " [1. 1. 1. ... 1. 1. 1.]\n",
      " ...\n",
      " [1. 1. 1. ... 1. 1. 1.]\n",
      " [1. 1. 1. ... 1. 1. 1.]\n",
      " [1. 1. 1. ... 1. 1. 1.]]\n"
     ]
    }
   ],
   "source": [
    "print(np.zeros((4,3)),\"\\n\")\n",
    "print(np.ones((100,100)))"
   ]
  },
  {
   "cell_type": "code",
   "execution_count": 36,
   "id": "da1b7e93",
   "metadata": {},
   "outputs": [
    {
     "name": "stdout",
     "output_type": "stream",
     "text": [
      "5\n"
     ]
    }
   ],
   "source": [
    "from numpy import random\n",
    "x =  random.randint(100)\n",
    "print(x)"
   ]
  },
  {
   "cell_type": "code",
   "execution_count": 37,
   "id": "9f866192",
   "metadata": {},
   "outputs": [
    {
     "name": "stdout",
     "output_type": "stream",
     "text": [
      "[0.56235067 0.30849654 0.07468735 0.26522336 0.45244131]\n"
     ]
    }
   ],
   "source": [
    "#Generate Random Float\n",
    "x = random.rand(5)\n",
    "print(x)"
   ]
  },
  {
   "cell_type": "code",
   "execution_count": 38,
   "id": "98a7b578",
   "metadata": {},
   "outputs": [
    {
     "name": "stdout",
     "output_type": "stream",
     "text": [
      "[64 27 69 42 55 97 35 81 80 42 68 13 78 53 95]\n"
     ]
    }
   ],
   "source": [
    "#Generate Random Array\n",
    "from numpy import random\n",
    "x = random.randint(100, size=(15))\n",
    "print(x)"
   ]
  },
  {
   "cell_type": "code",
   "execution_count": 43,
   "id": "19ecaf08",
   "metadata": {},
   "outputs": [
    {
     "name": "stdout",
     "output_type": "stream",
     "text": [
      "Input array is [8]\n",
      "Output scalar from input array [0.00000000e+000 0.00000000e+000 0.00000000e+000 0.00000000e+000\n",
      " 0.00000000e+000 1.81816158e-321 1.24610723e-306 1.29061142e-306]\n"
     ]
    }
   ],
   "source": [
    "#Creating scalars in Numpy\n",
    "#numpy.asscalar()\n",
    "import numpy as np\n",
    "in_arr = np.array([8])\n",
    "print(\"Input array is\", in_arr)\n",
    "out_scalar = np.ndarray(in_arr)\n",
    "print(\"Output scalar from input array\", out_scalar)"
   ]
  },
  {
   "attachments": {},
   "cell_type": "markdown",
   "id": "3ea297e1",
   "metadata": {},
   "source": [
    "# Creating Vector in Numpy"
   ]
  },
  {
   "cell_type": "code",
   "execution_count": 44,
   "id": "b02802cf",
   "metadata": {},
   "outputs": [
    {
     "name": "stdout",
     "output_type": "stream",
     "text": [
      "Horizontal Vector\n",
      "[1 2 3]\n",
      "--------------------\n",
      "Vertical Vector\n",
      "[[10]\n",
      " [20]\n",
      " [30]]\n"
     ]
    }
   ],
   "source": [
    "#import numpy\n",
    "import numpy as np\n",
    "\n",
    "#Creating 1-D List\n",
    "list1 = [1, 2, 3]\n",
    "\n",
    "#Creating 1-D List vertical\n",
    "list2 = [[10],\n",
    "        [20],\n",
    "        [30]]\n",
    "\n",
    "#Creating vactor1\n",
    "\n",
    "vector1 = np.array(list1)\n",
    "vector2 = np.array(list2)\n",
    "\n",
    "print(\"Horizontal Vector\")\n",
    "print(vector1)\n",
    "\n",
    "print(\"--------------------\")\n",
    "\n",
    "print(\"Vertical Vector\")\n",
    "print(vector2)\n"
   ]
  },
  {
   "attachments": {},
   "cell_type": "markdown",
   "id": "91f9e5de",
   "metadata": {},
   "source": [
    "# Creating matrix in Numpy"
   ]
  },
  {
   "cell_type": "code",
   "execution_count": 45,
   "id": "05ab7689",
   "metadata": {},
   "outputs": [
    {
     "name": "stdout",
     "output_type": "stream",
     "text": [
      "via string input : \n",
      " [[1 2]\n",
      " [3 4]] \n",
      "\n",
      "\n",
      "via array-Like input : \n",
      " [[list([5, 6, 7]) list([4, 6])]]\n"
     ]
    },
    {
     "name": "stderr",
     "output_type": "stream",
     "text": [
      "c:\\Users\\Akash\\AppData\\Local\\Programs\\Python\\Python310\\lib\\site-packages\\numpy\\matrixlib\\defmatrix.py:145: VisibleDeprecationWarning: Creating an ndarray from ragged nested sequences (which is a list-or-tuple of lists-or-tuples-or ndarrays with different lengths or shapes) is deprecated. If you meant to do this, you must specify 'dtype=object' when creating the ndarray.\n",
      "  arr = N.array(data, dtype=dtype, copy=copy)\n"
     ]
    }
   ],
   "source": [
    "import numpy as np\n",
    "a=np.matrix('1 2; 3 4')\n",
    "print(\"via string input : \\n\", a, \"\\n\\n\")\n",
    "\n",
    "#array-Like input\n",
    "b = np.matrix([[5, 6, 7],[4, 6]])\n",
    "print(\"via array-Like input : \\n\", b)"
   ]
  },
  {
   "attachments": {},
   "cell_type": "markdown",
   "id": "e3c9fa03",
   "metadata": {},
   "source": [
    "# Matrix multiplication in Numpy"
   ]
  },
  {
   "cell_type": "code",
   "execution_count": 46,
   "id": "f57abee8",
   "metadata": {},
   "outputs": [
    {
     "name": "stdout",
     "output_type": "stream",
     "text": [
      "[[30 35]\n",
      " [40 45]]\n"
     ]
    }
   ],
   "source": [
    "import numpy as np\n",
    "A = 5\n",
    "\n",
    "B = [[6,7],\n",
    "    [8,9]]\n",
    "\n",
    "print(np.dot(A,B))"
   ]
  },
  {
   "cell_type": "code",
   "execution_count": 47,
   "id": "9e4434c7",
   "metadata": {},
   "outputs": [
    {
     "name": "stdout",
     "output_type": "stream",
     "text": [
      "[[41 67]\n",
      " [53 87]]\n"
     ]
    }
   ],
   "source": [
    "import numpy as np\n",
    "A = [[6,7],\n",
    "    [8,9]]\n",
    "\n",
    "B = [[1,3],\n",
    "    [5,7]]\n",
    "\n",
    "print(np.dot(A,B))"
   ]
  },
  {
   "attachments": {},
   "cell_type": "markdown",
   "id": "98f82e91",
   "metadata": {},
   "source": [
    "# Percentile and Interquartile in numpy"
   ]
  },
  {
   "cell_type": "code",
   "execution_count": 48,
   "id": "97d758a1",
   "metadata": {},
   "outputs": [
    {
     "name": "stdout",
     "output_type": "stream",
     "text": [
      "34.0\n"
     ]
    }
   ],
   "source": [
    "import numpy as np\n",
    "data = [32, 36, 46, 47, 56, 69, 75, 79, 79, 88, 89, 91, 92, 93, 96, 97, 101, 105, 112, 116]\n",
    "\n",
    "#first quartile(Q1)\n",
    "\n",
    "Q1 = np.median(data[:10])\n",
    "\n",
    "#third Quartile\n",
    "\n",
    "Q3 = np.median(data[10:])\n",
    "\n",
    "#interquartile range\n",
    "\n",
    "IQR = Q3-Q1\n",
    "\n",
    "print(IQR)"
   ]
  },
  {
   "attachments": {},
   "cell_type": "markdown",
   "id": "a033cc65",
   "metadata": {},
   "source": [
    "# Array Broadcasting in Numpy"
   ]
  },
  {
   "cell_type": "code",
   "execution_count": 49,
   "id": "3605fc31",
   "metadata": {},
   "outputs": [
    {
     "data": {
      "text/plain": [
       "array([2., 4., 6.])"
      ]
     },
     "execution_count": 49,
     "metadata": {},
     "output_type": "execute_result"
    }
   ],
   "source": [
    "a = np.array([1.0, 2.0, 3.0])\n",
    "b = np.array([2.0, 2.0, 2.0])\n",
    "\n",
    "a * b"
   ]
  },
  {
   "cell_type": "code",
   "execution_count": 50,
   "id": "84bcf329",
   "metadata": {},
   "outputs": [
    {
     "data": {
      "text/plain": [
       "array([2., 4., 6.])"
      ]
     },
     "execution_count": 50,
     "metadata": {},
     "output_type": "execute_result"
    }
   ],
   "source": [
    "a = np.array([1.0, 2.0, 3.0])\n",
    "b = 2.0\n",
    "a * b"
   ]
  }
 ],
 "metadata": {
  "kernelspec": {
   "display_name": "Python 3 (ipykernel)",
   "language": "python",
   "name": "python3"
  },
  "language_info": {
   "codemirror_mode": {
    "name": "ipython",
    "version": 3
   },
   "file_extension": ".py",
   "mimetype": "text/x-python",
   "name": "python",
   "nbconvert_exporter": "python",
   "pygments_lexer": "ipython3",
   "version": "3.10.6"
  }
 },
 "nbformat": 4,
 "nbformat_minor": 5
}
